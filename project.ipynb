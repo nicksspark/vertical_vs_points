{
 "cells": [
  {
   "cell_type": "code",
   "execution_count": 26,
   "metadata": {},
   "outputs": [],
   "source": [
    "import numpy as np\n",
    "import pandas as pd\n",
    "from sklearn.ensemble import GradientBoostingRegressor\n",
    "from sklearn.linear_model import LogisticRegressionCV\n",
    "from sklearn.metrics import confusion_matrix"
   ]
  },
  {
   "cell_type": "code",
   "execution_count": 28,
   "metadata": {},
   "outputs": [
    {
     "data": {
      "text/html": [
       "<div>\n",
       "<style scoped>\n",
       "    .dataframe tbody tr th:only-of-type {\n",
       "        vertical-align: middle;\n",
       "    }\n",
       "\n",
       "    .dataframe tbody tr th {\n",
       "        vertical-align: top;\n",
       "    }\n",
       "\n",
       "    .dataframe thead th {\n",
       "        text-align: right;\n",
       "    }\n",
       "</style>\n",
       "<table border=\"1\" class=\"dataframe\">\n",
       "  <thead>\n",
       "    <tr style=\"text-align: right;\">\n",
       "      <th></th>\n",
       "      <th>Unnamed: 0</th>\n",
       "      <th>PLAYER_ID</th>\n",
       "      <th>PTS</th>\n",
       "      <th>GP</th>\n",
       "      <th>PLAYER_NAME</th>\n",
       "      <th>POSITION</th>\n",
       "      <th>HEIGHT_WO_SHOES</th>\n",
       "      <th>WEIGHT</th>\n",
       "      <th>WINGSPAN</th>\n",
       "      <th>STANDING_REACH</th>\n",
       "      <th>STANDING_VERTICAL_LEAP</th>\n",
       "      <th>MAX_VERTICAL_LEAP</th>\n",
       "      <th>LANE_AGILITY_TIME</th>\n",
       "    </tr>\n",
       "  </thead>\n",
       "  <tbody>\n",
       "    <tr>\n",
       "      <th>0</th>\n",
       "      <td>0</td>\n",
       "      <td>2403</td>\n",
       "      <td>15.6</td>\n",
       "      <td>965</td>\n",
       "      <td>Nene</td>\n",
       "      <td>PF</td>\n",
       "      <td>81.25</td>\n",
       "      <td>253.0</td>\n",
       "      <td>88.50</td>\n",
       "      <td>109.0</td>\n",
       "      <td>30.0</td>\n",
       "      <td>34.0</td>\n",
       "      <td>10.73</td>\n",
       "    </tr>\n",
       "    <tr>\n",
       "      <th>1</th>\n",
       "      <td>1</td>\n",
       "      <td>203500</td>\n",
       "      <td>12.8</td>\n",
       "      <td>588</td>\n",
       "      <td>Steven Adams</td>\n",
       "      <td>C</td>\n",
       "      <td>82.75</td>\n",
       "      <td>254.5</td>\n",
       "      <td>88.50</td>\n",
       "      <td>109.5</td>\n",
       "      <td>28.5</td>\n",
       "      <td>33.0</td>\n",
       "      <td>11.85</td>\n",
       "    </tr>\n",
       "    <tr>\n",
       "      <th>2</th>\n",
       "      <td>2</td>\n",
       "      <td>1628389</td>\n",
       "      <td>16.3</td>\n",
       "      <td>287</td>\n",
       "      <td>Edrice Adebayo</td>\n",
       "      <td>PF-C</td>\n",
       "      <td>80.75</td>\n",
       "      <td>242.6</td>\n",
       "      <td>86.75</td>\n",
       "      <td>108.0</td>\n",
       "      <td>33.5</td>\n",
       "      <td>38.5</td>\n",
       "      <td>11.94</td>\n",
       "    </tr>\n",
       "    <tr>\n",
       "      <th>3</th>\n",
       "      <td>3</td>\n",
       "      <td>200746</td>\n",
       "      <td>20.4</td>\n",
       "      <td>1029</td>\n",
       "      <td>LaMarcus Aldridge</td>\n",
       "      <td>PF-C</td>\n",
       "      <td>82.00</td>\n",
       "      <td>234.0</td>\n",
       "      <td>88.75</td>\n",
       "      <td>110.0</td>\n",
       "      <td>26.5</td>\n",
       "      <td>34.0</td>\n",
       "      <td>12.02</td>\n",
       "    </tr>\n",
       "    <tr>\n",
       "      <th>4</th>\n",
       "      <td>4</td>\n",
       "      <td>1628960</td>\n",
       "      <td>16.1</td>\n",
       "      <td>126</td>\n",
       "      <td>Grayson Allen</td>\n",
       "      <td>SG</td>\n",
       "      <td>75.00</td>\n",
       "      <td>198.0</td>\n",
       "      <td>79.25</td>\n",
       "      <td>97.0</td>\n",
       "      <td>32.5</td>\n",
       "      <td>40.5</td>\n",
       "      <td>10.31</td>\n",
       "    </tr>\n",
       "  </tbody>\n",
       "</table>\n",
       "</div>"
      ],
      "text/plain": [
       "   Unnamed: 0  PLAYER_ID   PTS    GP        PLAYER_NAME POSITION  \\\n",
       "0           0       2403  15.6   965              Nene        PF   \n",
       "1           1     203500  12.8   588       Steven Adams        C   \n",
       "2           2    1628389  16.3   287     Edrice Adebayo     PF-C   \n",
       "3           3     200746  20.4  1029  LaMarcus Aldridge     PF-C   \n",
       "4           4    1628960  16.1   126      Grayson Allen       SG   \n",
       "\n",
       "   HEIGHT_WO_SHOES  WEIGHT  WINGSPAN  STANDING_REACH  STANDING_VERTICAL_LEAP  \\\n",
       "0            81.25   253.0     88.50           109.0                    30.0   \n",
       "1            82.75   254.5     88.50           109.5                    28.5   \n",
       "2            80.75   242.6     86.75           108.0                    33.5   \n",
       "3            82.00   234.0     88.75           110.0                    26.5   \n",
       "4            75.00   198.0     79.25            97.0                    32.5   \n",
       "\n",
       "   MAX_VERTICAL_LEAP  LANE_AGILITY_TIME  \n",
       "0               34.0              10.73  \n",
       "1               33.0              11.85  \n",
       "2               38.5              11.94  \n",
       "3               34.0              12.02  \n",
       "4               40.5              10.31  "
      ]
     },
     "execution_count": 28,
     "metadata": {},
     "output_type": "execute_result"
    }
   ],
   "source": [
    "data = pd.read_csv(\"./all_data\")\n",
    "data.head()"
   ]
  },
  {
   "cell_type": "code",
   "execution_count": 20,
   "metadata": {},
   "outputs": [],
   "source": [
    "# Response \n",
    "y = np.array(data.PTS)\n",
    "\n",
    "# Treatment \n",
    "vertical = np.array(data.MAX_VERTICAL_LEAP)\n",
    "A = np.array([1 if v > 35 else 0 for v in vertical])\n",
    "data[\"A\"] = A\n",
    "\n",
    "# Covariates\n",
    "X_Q = data[[\"HEIGHT_WO_SHOES\", \"WEIGHT\", \"WINGSPAN\", \"LANE_AGILITY_TIME\", \"A\"]]\n",
    "X_g = data[[\"HEIGHT_WO_SHOES\", \"WEIGHT\", \"WINGSPAN\", \"LANE_AGILITY_TIME\"]]"
   ]
  },
  {
   "cell_type": "code",
   "execution_count": 25,
   "metadata": {},
   "outputs": [
    {
     "data": {
      "text/plain": [
       "array([[ 48,  46],\n",
       "       [ 23, 116]])"
      ]
     },
     "execution_count": 25,
     "metadata": {},
     "output_type": "execute_result"
    }
   ],
   "source": [
    "Q = GradientBoostingRegressor(n_estimators=50, learning_rate=0.1, max_depth=3, random_state=0, loss='ls')\n",
    "Q.fit(X_Q, y)\n",
    "\n",
    "g = LogisticRegressionCV(random_state=0)\n",
    "g.fit(X_g, A)\n",
    "A_pred = g.predict(X_g)\n",
    "\n",
    "confusion_matrix(A, A_pred)\n"
   ]
  },
  {
   "cell_type": "code",
   "execution_count": 39,
   "metadata": {},
   "outputs": [],
   "source": [
    "def aiptw(Q, g, A_name, x_names, X_Q, X_g, A, y):\n",
    "    X_Q_all_treatment = X_Q.copy()\n",
    "    X_Q_all_treatment[A_name] = 1\n",
    "    \n",
    "    X_Q_no_treatment = X_Q.copy()\n",
    "    X_Q_no_treatment[A_name] = 0\n",
    "    \n",
    "    Q_1_x = Q.predict(X_Q_all_treatment)\n",
    "    Q_0_x = Q.predict(X_Q_no_treatment)\n",
    "    \n",
    "    \n",
    "    g_x = g.predict_proba(X_g)[:,1]\n",
    "    \n",
    "    summands = Q_1_x - Q_0_x + A*(y-Q_1_x)/g_x - (1-A)*(y-Q_0_x)/(1-g_x)\n",
    "    \n",
    "    return np.mean(summands), np.var(summands)"
   ]
  },
  {
   "cell_type": "code",
   "execution_count": 40,
   "metadata": {},
   "outputs": [
    {
     "data": {
      "text/plain": [
       "(0.5869044458181463, 28.88961172484478)"
      ]
     },
     "execution_count": 40,
     "metadata": {},
     "output_type": "execute_result"
    }
   ],
   "source": [
    "aiptw(Q, g, \"A\", [\"HEIGHT_WO_SHOES\", \"WEIGHT\", \"WINGSPAN\", \"LANE_AGILITY_TIME\"], X_Q, X_g, A, y)"
   ]
  },
  {
   "cell_type": "code",
   "execution_count": 113,
   "metadata": {},
   "outputs": [],
   "source": [
    "def fold(train_index, test_index, A_name, x_names, X_Q, X_g, A, y):\n",
    "    Q = GradientBoostingRegressor(n_estimators=50, learning_rate=0.2, max_depth=3, random_state=0, loss='ls')\n",
    "    Q.fit(X_Q.iloc[train_index,:], y[train_index])\n",
    "\n",
    "    g = LogisticRegressionCV(random_state=0)\n",
    "    g.fit(X_g.iloc[train_index,:], A[train_index])\n",
    "    \n",
    "    return aiptw(\n",
    "        Q, g, A_name, \n",
    "        x_names, \n",
    "        X_Q.iloc[test_index,:], X_g.iloc[test_index,:], A[test_index], y[test_index])"
   ]
  },
  {
   "cell_type": "code",
   "execution_count": 114,
   "metadata": {},
   "outputs": [],
   "source": [
    "from sklearn.model_selection import KFold\n",
    "kf = KFold(n_splits=5, shuffle=True)\n",
    "mean = []\n",
    "var = []\n",
    "for train_index, test_index in kf.split(A):\n",
    "    mean_temp, var_temp = fold(train_index, test_index, \"A\", [\"HEIGHT_WO_SHOES\", \"WEIGHT\", \"WINGSPAN\", \"LANE_AGILITY_TIME\"], X_Q, X_g, A, y)\n",
    "    mean.append(mean_temp)\n",
    "    var.append(var_temp)"
   ]
  },
  {
   "cell_type": "code",
   "execution_count": 115,
   "metadata": {},
   "outputs": [
    {
     "data": {
      "text/plain": [
       "0.7027459831129865"
      ]
     },
     "execution_count": 115,
     "metadata": {},
     "output_type": "execute_result"
    }
   ],
   "source": [
    "np.mean(mean)"
   ]
  },
  {
   "cell_type": "code",
   "execution_count": 116,
   "metadata": {},
   "outputs": [
    {
     "data": {
      "text/plain": [
       "44.08619250945192"
      ]
     },
     "execution_count": 116,
     "metadata": {},
     "output_type": "execute_result"
    }
   ],
   "source": [
    "np.mean(var)/np.sqrt(5)"
   ]
  },
  {
   "cell_type": "code",
   "execution_count": null,
   "metadata": {},
   "outputs": [],
   "source": []
  }
 ],
 "metadata": {
  "kernelspec": {
   "display_name": "Python 3",
   "language": "python",
   "name": "python3"
  },
  "language_info": {
   "codemirror_mode": {
    "name": "ipython",
    "version": 3
   },
   "file_extension": ".py",
   "mimetype": "text/x-python",
   "name": "python",
   "nbconvert_exporter": "python",
   "pygments_lexer": "ipython3",
   "version": "3.8.5"
  }
 },
 "nbformat": 4,
 "nbformat_minor": 4
}
