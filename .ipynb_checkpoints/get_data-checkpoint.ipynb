{
 "cells": [
  {
   "cell_type": "code",
   "execution_count": 1,
   "metadata": {},
   "outputs": [],
   "source": [
    "import numpy as np\n",
    "import pandas as pd\n",
    "from nba_api.stats.static import players\n",
    "from nba_api.stats.endpoints import draftcombinestats, playercareerstats"
   ]
  },
  {
   "cell_type": "code",
   "execution_count": 2,
   "metadata": {},
   "outputs": [
    {
     "data": {
      "text/plain": [
       "519"
      ]
     },
     "execution_count": 2,
     "metadata": {},
     "output_type": "execute_result"
    }
   ],
   "source": [
    "all_players = players.get_players()\n",
    "\n",
    "# We only want ACTIVE players\n",
    "active_players = [p for p in all_players if p[\"is_active\"] == True]\n",
    "ids = [p[\"id\"] for p in active_players]\n",
    "\n",
    "len(active_players)"
   ]
  },
  {
   "cell_type": "code",
   "execution_count": null,
   "metadata": {},
   "outputs": [],
   "source": [
    "# Get the combine data of all active players\n",
    "\n",
    "endpoint = draftcombinestats.DraftCombineStats(league_id = \"00\", season_all_time=\"All Time\")\n",
    "combine_stats = endpoint.get_data_frames()[0]\n",
    "indices = combine_stats.PLAYER_ID.isin(ids)\n",
    "combine_stats = combine_stats[indices]\n",
    "combine_stats = pd.DataFrame(combine_stats, columns=['PLAYER_ID', 'PLAYER_NAME',\n",
    "       'POSITION', 'HEIGHT_WO_SHOES', 'WEIGHT', 'WINGSPAN',\n",
    "       'STANDING_REACH',\n",
    "       'STANDING_VERTICAL_LEAP',\n",
    "       'MAX_VERTICAL_LEAP'])\n",
    "\n",
    "# Remove rows with missing data\n",
    "combine_stats.dropna()\n",
    "combine_stats.to_csv(\"./combine_stats\")\n",
    "combine_stats"
   ]
  },
  {
   "cell_type": "code",
   "execution_count": null,
   "metadata": {},
   "outputs": [],
   "source": [
    "ids = list(combine_stats.PLAYER_ID)\n",
    "splits = [0, 30, 60, 90, 120, 150, 180, 210, 240, 270, 300, 330, 347]\n",
    "points = []\n",
    "for idx in ids:\n",
    "    endpoint = playercareerstats.PlayerCareerStats(player_id = idx, per_mode36 = \"Per36\")\n",
    "    career_stats = endpoint.career_totals_regular_season.get_data_frame()\n",
    "    points.append({\n",
    "        \"PLAYER_ID\": idx, \n",
    "        \"PTS\": float(career_stats[\"PTS\"])\n",
    "    })\n",
    "points"
   ]
  },
  {
   "cell_type": "code",
   "execution_count": null,
   "metadata": {},
   "outputs": [],
   "source": [
    "data = []\n",
    "ids = list(combine_stats.PLAYER_ID)\n",
    "splits = [0, 30, 60, 90, 120, 150, 180, 210, 240, 270, 300, 330, 347]\n",
    "\n",
    "for i in range(len(splits)-1):\n",
    "    for idx in ids:\n",
    "        endpoint = playercareerstats.PlayerCareerStats(player_id = p[\"id\"], per_mode36 = \"Per36\")\n",
    "        career_stats = endpoint.career_totals_regular_season.get_data_frame()\n",
    "        if int(career_stats[\"GP\"]) >= 82:\n",
    "            p[\"pp36\"] = float(career_stats[\"PTS\"])\n",
    "            data.append(p)"
   ]
  },
  {
   "cell_type": "code",
   "execution_count": null,
   "metadata": {},
   "outputs": [],
   "source": [
    "endpoint = playercareerstats.PlayerCareerStats(player_id = 1626174, per_mode36 = \"Per36\")\n",
    "career_stats = endpoint.career_totals_regular_season.get_data_frame()\n",
    "career_stats"
   ]
  },
  {
   "cell_type": "code",
   "execution_count": null,
   "metadata": {},
   "outputs": [],
   "source": [
    "combine_data = pd.read_csv(\"nba_draft_combine_all_years.csv\")"
   ]
  },
  {
   "cell_type": "code",
   "execution_count": null,
   "metadata": {},
   "outputs": [],
   "source": []
  },
  {
   "cell_type": "code",
   "execution_count": null,
   "metadata": {},
   "outputs": [],
   "source": []
  }
 ],
 "metadata": {
  "kernelspec": {
   "display_name": "Python 3",
   "language": "python",
   "name": "python3"
  },
  "language_info": {
   "codemirror_mode": {
    "name": "ipython",
    "version": 3
   },
   "file_extension": ".py",
   "mimetype": "text/x-python",
   "name": "python",
   "nbconvert_exporter": "python",
   "pygments_lexer": "ipython3",
   "version": "3.8.5"
  }
 },
 "nbformat": 4,
 "nbformat_minor": 4
}
